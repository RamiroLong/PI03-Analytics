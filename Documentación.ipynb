{
 "cells": [
  {
   "cell_type": "markdown",
   "metadata": {},
   "source": [
    "**Proyecto de Análisis de Criptomonedas**"
   ]
  },
  {
   "cell_type": "markdown",
   "metadata": {},
   "source": [
    "El proyecto se basa en el análisis del comportamiento de 10 criptomonedas del mercado, y su relación con variables como el volúmen transaccionado. Al elegir las criptos a utilizar, traté de tomar las que fuesen más representativas para un análisis más interesante. Para calcular ciertos KPIs pedidos, tuve que establecer qué precio iba a utilizar, siendo el precio de cierre ajustado. Conecté FTX API a mi tablero, para poder tener la información histórica y que se fuese actualizando.\n",
    "Respecto de la visualización, confeccioné varias tarjetas dentro de las cuales se podrán apreciar los KPIs de media móvil, valor histórico y volumen transaccionado. Estas tres tarjetas, están conectadas dinámicamente con dos filtros, que también se pueden observar en el dashboard, con los cuales se puede elegir la criptomoneda de la cual se quiere ver información y la fecha o rango que se quiera observar. \n",
    "De las tarjetas mostradas, la media móvil nos brinda un promedio del valor de la cripto en el rango de fechas dado. La de valor histórico nos da información del valor de esa cripto en la fecha especificada y por último la tarjeta de volumen transaccionado nos muestra la cantidad de criptomonedas en USD que fueron transaccionadas en ese rango o fecha especificada. Además, se observa en el Dashboard un gráfico dinámico que muestra los elementos con mayor correlación con el volumen transaccionado. En el mismo, se puede elegir mostrar que criptos son más influyentes en la disminución o el aumento de dicho volumen."
   ]
  }
 ],
 "metadata": {
  "kernelspec": {
   "display_name": "Python 3.10.7 64-bit",
   "language": "python",
   "name": "python3"
  },
  "language_info": {
   "codemirror_mode": {
    "name": "ipython",
    "version": 3
   },
   "file_extension": ".py",
   "mimetype": "text/x-python",
   "name": "python",
   "nbconvert_exporter": "python",
   "pygments_lexer": "ipython3",
   "version": "3.10.7"
  },
  "orig_nbformat": 4,
  "vscode": {
   "interpreter": {
    "hash": "22c87e910ce88795ae32b9d2e0283e8aace98ca896414d3537cc222318916e2c"
   }
  }
 },
 "nbformat": 4,
 "nbformat_minor": 2
}
